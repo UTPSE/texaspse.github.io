{
 "cells": [
  {
   "cell_type": "code",
   "execution_count": 291,
   "metadata": {
    "collapsed": true
   },
   "outputs": [],
   "source": [
    "import numpy as np\n",
    "import pandas as pd\n",
    "import math\n",
    "import numpy.linalg as m\n",
    "import matplotlib.pyplot as plt\n",
    "import matplotlib.patches as mpatches\n",
    "%matplotlib inline"
   ]
  },
  {
   "cell_type": "code",
   "execution_count": null,
   "metadata": {
    "collapsed": true
   },
   "outputs": [],
   "source": []
  },
  {
   "cell_type": "code",
   "execution_count": 292,
   "metadata": {
    "collapsed": false
   },
   "outputs": [
    {
     "name": "stdout",
     "output_type": "stream",
     "text": [
      "[[ 1083.33333333]\n",
      " [  937.5       ]\n",
      " [ 1000.        ]\n",
      " [  640.34090909]]\n",
      "[[ 1050.62081552]\n",
      " [  960.16828957]\n",
      " [  955.2549173 ]\n",
      " [  821.37340498]]\n",
      "[[ 1063.55791791]\n",
      " [  954.19695179]\n",
      " [  964.01996509]\n",
      " [  764.30231737]]\n"
     ]
    },
    {
     "data": {
      "text/plain": [
       "matrix([[1000],\n",
       "        [1000],\n",
       "        [1000],\n",
       "        [1000]])"
      ]
     },
     "execution_count": 292,
     "metadata": {},
     "output_type": "execute_result"
    }
   ],
   "source": [
    "B=np.matrix([[120, 0,0,0],[0,160,0,0],[0,0,200,0],[0,0,0,176]])\n",
    "Q=np.matrix([[10000],[-10000],[0],[63300]])\n",
    "T=np.matrix([[6856,-6856,0,0],[-6856,16456,-9600,0],[0,-9600,20512,-10912],[0,0,-10912,30912]])*6.33e-3\n",
    "P=np.matrix([[1000],[1000],[1000],[1000]])\n",
    "theta = 0.5\n",
    "dt = 1\n",
    "\n",
    "explicit = P+dt*m.inv(B)*(Q-T*P)\n",
    "implicit = m.inv(T+B/dt)*(B*P/dt + Q)\n",
    "crank = m.inv(((1-theta)*T+B/dt))*((B/dt-theta*T)*P+Q)\n",
    "print(explicit)\n",
    "print(implicit)\n",
    "print(crank)\n",
    "P"
   ]
  },
  {
   "cell_type": "code",
   "execution_count": null,
   "metadata": {
    "collapsed": false
   },
   "outputs": [],
   "source": []
  },
  {
   "cell_type": "code",
   "execution_count": null,
   "metadata": {
    "collapsed": false
   },
   "outputs": [],
   "source": []
  },
  {
   "cell_type": "code",
   "execution_count": null,
   "metadata": {
    "collapsed": false
   },
   "outputs": [],
   "source": []
  },
  {
   "cell_type": "code",
   "execution_count": 293,
   "metadata": {
    "collapsed": true
   },
   "outputs": [],
   "source": [
    "def getProperty(fileStr):\n",
    "    list = []\n",
    "    file = open(fileStr, \"r\")\n",
    "    for line in file: # add each line to the string\n",
    "        list.append(float(line))\n",
    "    return list"
   ]
  },
  {
   "cell_type": "code",
   "execution_count": 294,
   "metadata": {
    "collapsed": false
   },
   "outputs": [
    {
     "name": "stdout",
     "output_type": "stream",
     "text": [
      "[0.110154833, 0.130841143, 0.453734495, 0.180086774, 0.285249242, 0.403786139, 0.393107875, 0.039250429, 0.476481109, 0.273192942, 0.080634208, 0.3538334, 0.493232053, 0.058924753, 0.469462445, 0.144482175, 0.210291569, 0.194857186, 0.465888221, 0.307416218, 0.165967847, 0.118925185, 0.028759816, 0.149959055, 0.177761453, 0.031325069, 0.119311697, 0.029695434, 0.033441034, 0.14676466, 0.337687412, 0.054221618, 0.382069262, 0.423010202, 0.418371807, 0.492025004, 0.18528458, 0.119805276, 0.063783896, 0.394515087, 0.057065938, 0.285393981, 0.16351863, 0.245004056, 0.410039414, 0.192222574, 0.199853383, 0.324880851, 0.434640335, 0.053475999, 0.448555916, 0.289540005, 0.149855393, 0.407213501, 0.130640312, 0.348521408, 0.341572388, 0.094137729, 0.101398228, 0.141596749, 0.449478311, 0.138179108, 0.229911051, 0.269423738, 0.250816471, 0.484973953, 0.260508358, 0.462498385, 0.334808326, 0.081776997, 0.353061116, 0.097285236, 0.248998654, 0.470287841, 0.336881629, 0.158011662, 0.267867725, 0.328351645, 0.244081137, 0.427378516, 0.209585198, 0.482705832, 0.360448273, 0.297339998, 0.454729261, 0.244593931, 0.027814739, 0.032302105, 0.203900958, 0.4684119, 0.494906304, 0.439658004, 0.298007541, 0.395791164, 0.394989889, 0.324088847, 0.387514629, 0.353164054, 0.497482043, 0.182675733, 0.408205089, 0.055770756, 0.416797876, 0.333105373, 0.08486462, 0.484361329, 0.268556155, 0.108116541, 0.476311155, 0.408955466, 0.163014731, 0.328799421, 0.106847309, 0.122586508, 0.341126897]\n",
      "[1000, 1000, 1000, 1000, 1000, 1000, 1000, 1000, 1000, 1000, 1000, 1000, 1000, 1000, 1000, 1000, 1000, 1000, 1000, 1000, 1000, 1000, 1000, 1000, 1000, 1000, 1000, 1000, 1000, 1000, 1000, 1000, 1000, 1000, 1000, 1000, 1000, 1000, 1000, 1000, 1000, 1000, 1000, 1000, 1000, 1000, 1000, 1000, 1000, 1000, 1000, 1000, 1000, 1000, 1000, 1000, 1000, 1000, 1000, 1000, 1000, 1000, 1000, 1000, 1000, 1000, 1000, 1000, 1000, 1000, 1000, 1000, 1000, 1000, 1000, 1000, 1000, 1000, 1000, 1000, 1000, 1000, 1000, 1000, 1000, 1000, 1000, 1000, 1000, 1000, 1000, 1000, 1000, 1000, 1000, 1000, 1000, 1000, 1000, 1000, 1000, 1000, 1000, 1000, 1000, 1000, 1000, 1000, 1000, 1000, 1000, 1000, 1000, 1000, 1000]\n",
      "34.78260869565217\n"
     ]
    }
   ],
   "source": [
    "mu = 1\n",
    "Bw = 1\n",
    "Ct = 1e-5\n",
    "L = 4000\n",
    "A = 80000\n",
    "\n",
    "k = getProperty(\"/Users/markmetzger/Desktop/properties/Permeability.txt\")\n",
    "phi = getProperty(\"/Users/markmetzger/Desktop/properties/Porosity.txt\")\n",
    "print(phi)\n",
    "P = [1000]*len(k)\n",
    "print(P)\n",
    "\n",
    "positions = [5, 1495]\n",
    "wellRates = [10000, -10000]\n",
    "\n",
    "gridBlocks = len(k)\n",
    "dt = 1\n",
    "\n",
    "boundary = ['const flux', 'const pressure']\n",
    "conditions = [0, 500]\n",
    "\n",
    "dx = L/gridBlocks\n",
    "print(dx)"
   ]
  },
  {
   "cell_type": "code",
   "execution_count": null,
   "metadata": {
    "collapsed": true
   },
   "outputs": [],
   "source": []
  },
  {
   "cell_type": "code",
   "execution_count": 295,
   "metadata": {
    "collapsed": true
   },
   "outputs": [],
   "source": [
    "def transmissability(k):\n",
    "    return (k*A/mu/Bw/dx) * 6.33e-3;\n",
    "\n",
    "def bEquation(phi):\n",
    "    return A*dx*Ct*phi/Bw;\n",
    "\n",
    "def compute_innerblock_transmissability():\n",
    "    innerK = [0]*(gridBlocks-1)\n",
    "    for i in range(len(innerK)):\n",
    "        innerK[i] = 2*(1/k[i] + 1/k[i+1])**(-1)\n",
    "\n",
    "    innerT = list(map(lambda k: transmissability(k), innerK))\n",
    "\n",
    "    Q = np.zeros((gridBlocks, 1))\n",
    "\n",
    "    Tb = [0, 0]\n",
    "    for i in range(2):\n",
    "        if boundary[i] == 'const flux':\n",
    "            Tb[i] = 0\n",
    "        elif boundary[i] == 'const pressure':\n",
    "            val = 2*transmissability(k[i*(len(k)-1)])\n",
    "            Tb[i] = val\n",
    "            print(val)\n",
    "            Q[i*(len(k)-1)][0] = conditions[i]*val\n",
    "\n",
    "    innerT = [Tb[0]] + innerT + [Tb[1]]\n",
    "    return {'Q': Q, 'innerT': innerT}"
   ]
  },
  {
   "cell_type": "code",
   "execution_count": 296,
   "metadata": {
    "collapsed": false
   },
   "outputs": [
    {
     "name": "stdout",
     "output_type": "stream",
     "text": [
      "3973.1731889148\n"
     ]
    },
    {
     "data": {
      "text/plain": [
       "<matplotlib.legend.Legend at 0x1226caf98>"
      ]
     },
     "execution_count": 296,
     "metadata": {},
     "output_type": "execute_result"
    },
    {
     "data": {
      "image/png": "[encoded data removed]",
      "text/plain": [
       "<matplotlib.figure.Figure at 0x12086d438>"
      ]
     },
     "metadata": {},
     "output_type": "display_data"
    }
   ],
   "source": [
    "result = compute_innerblock_transmissability()\n",
    "innerT = result['innerT']\n",
    "Q = result['Q']\n",
    "    \n",
    "T = np.zeros((gridBlocks, gridBlocks))\n",
    "for i in range(0, len(innerT)-1):\n",
    "    T[i][i] = innerT[i] + innerT[i+1]\n",
    "    if i < len(innerT)-2:\n",
    "        T[i][i+1] = -innerT[i+1]\n",
    "        T[i+1][i] = -innerT[i+1]\n",
    "        \n",
    "B = np.zeros((gridBlocks, gridBlocks))\n",
    "for i in range(gridBlocks):\n",
    "    B[i][i] = bEquation(phi[i])\n",
    "    \n",
    "for i in range(len(positions)):\n",
    "    index = math.floor(positions[i]/dx)\n",
    "    Q[index][0] += wellRates[i]\n",
    "    \n",
    "P = np.matrix(P).transpose()\n",
    "\n",
    "x = np.linspace(dx/2, L - dx/2, gridBlocks)\n",
    "\n",
    "y10 = []\n",
    "y50 = []\n",
    "y200 = []\n",
    "for i in range(1000):\n",
    "    P = m.inv(T+B/dt)*(B*P/dt + Q)\n",
    "    if (i == 5):\n",
    "        y10 = P\n",
    "    if (i == 50):\n",
    "        y50 = P\n",
    "    if (i == 200):\n",
    "        y200 = P\n",
    "    \n",
    "plt.figure(num=None, figsize=(14, 8), dpi=180, facecolor='w', edgecolor='k')\n",
    "plt.plot(x, y10, 'r-', x, y50, 'b-', x, y200, 'k-')\n",
    "plt.xlabel('Distance (ft)')\n",
    "plt.ylabel('Pressure (psi)')\n",
    "r = mpatches.Patch(color='red', label='10 days')\n",
    "b = mpatches.Patch(color='blue', label='50 days')\n",
    "k = mpatches.Patch(color='black', label='200 days')\n",
    "plt.legend(handles=[r,b,k])\n"
   ]
  },
  {
   "cell_type": "code",
   "execution_count": null,
   "metadata": {
    "collapsed": false
   },
   "outputs": [],
   "source": []
  }
 ],
 "metadata": {
  "anaconda-cloud": {},
  "kernelspec": {
   "display_name": "Python [Root]",
   "language": "python",
   "name": "Python [Root]"
  },
  "language_info": {
   "codemirror_mode": {
    "name": "ipython",
    "version": 3
   },
   "file_extension": ".py",
   "mimetype": "text/x-python",
   "name": "python",
   "nbconvert_exporter": "python",
   "pygments_lexer": "ipython3",
   "version": "3.5.2"
  }
 },
 "nbformat": 4,
 "nbformat_minor": 0
}
