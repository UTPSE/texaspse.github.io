{
 "cells": [
  {
   "cell_type": "code",
   "execution_count": 5,
   "metadata": {
    "collapsed": false
   },
   "outputs": [
    {
     "name": "stdout",
     "output_type": "stream",
     "text": [
      "[[  9.64639858e-01   3.41098006e-02   1.20607414e-03   4.11407695e-05]\n",
      " [  3.41098006e-02   9.31736131e-01   3.29448672e-02   1.12379260e-03]\n",
      " [  1.20607414e-03   3.29448672e-02   9.31653850e-01   3.17799338e-02]\n",
      " [  4.11407695e-05   1.12379260e-03   3.17799338e-02   8.98750123e-01]]\n",
      "[[ 1000.]\n",
      " [ 1000.]\n",
      " [ 1000.]\n",
      " [ 1038.]]\n"
     ]
    },
    {
     "data": {
      "text/plain": [
       "matrix([[ 999.99261039],\n",
       "        [ 999.8392878 ],\n",
       "        [ 996.58048929],\n",
       "        [ 935.11450081]])"
      ]
     },
     "execution_count": 5,
     "metadata": {},
     "output_type": "execute_result"
    }
   ],
   "source": [
    "import numpy as np\n",
    "import pandas as pd\n",
    "import math\n",
    "# CALCULATIONS FOR 1B\n",
    "PI = math.pi\n",
    "\n",
    "n = 0.038\n",
    "A = np.matrix([[1+n, -n, 0, 0], [-n, 1+2*n, -n, 0], [0, -n, 1+2*n, -n], [0, 0, -n, 1+3*n]])\n",
    "b = np.matrix([[1000], [1000], [1000], [1000+1000*n]])\n",
    "\n",
    "A_inv = np.linalg.inv(A)\n",
    "print(A_inv)\n",
    "print(b)\n",
    "b = A_inv * b\n",
    "b[3][0] += 38\n",
    "\n",
    "n = 0.038\n",
    "A = np.matrix([[1+n, -n, 0, 0], [-n, 1+2*n, -n, 0], [0, -n, 1+2*n, -n], [0, 0, -n, 1+3*n]])\n",
    "#b = np.matrix([[1000], [1000], [1000], [1000+1000*n]])\n",
    "\n",
    "A_inv = np.linalg.inv(A)\n",
    "\n",
    "A_inv * b\n",
    "\n"
   ]
  },
  {
   "cell_type": "code",
   "execution_count": 6,
   "metadata": {
    "collapsed": false
   },
   "outputs": [
    {
     "data": {
      "image/png": "[encoded data removed]",
      "text/plain": [
       "<matplotlib.figure.Figure at 0x11dd0feb8>"
      ]
     },
     "metadata": {},
     "output_type": "display_data"
    }
   ],
   "source": [
    "b1 = 'N' #const pressure\n",
    "Pb1 = 500\n",
    "b2 = 'D' #const flux\n",
    "Pb2 = 500\n",
    "blocks = 100\n",
    "Pi = [1000] * blocks\n",
    "timeStep = 1\n",
    "maxSteps = 100\n",
    "k = 15\n",
    "P = 0.25\n",
    "mu = 1\n",
    "Bw = 1\n",
    "Ct = 1e-5\n",
    "L = 4000\n",
    "dx = L/blocks\n",
    "alpha = (6.33e-3)*k/(P*mu*Ct)\n",
    "eta = alpha*timeStep/(dx**2)\n",
    "A = np.zeros((blocks, blocks))\n",
    "for i in range(blocks):\n",
    "    A[i][i] = 1 + 2*eta\n",
    "    if i < blocks - 1:\n",
    "        A[i][i+1] = -eta\n",
    "    if i > 0:\n",
    "        A[i][i-1] = -eta\n",
    "\n",
    "\n",
    "b = np.zeros((blocks, 1))\n",
    "for i in range(blocks):\n",
    "    b[i][0] = Pi[i]\n",
    "    \n",
    "\n",
    "if (b1 == 'D'):\n",
    "    A[0][0] += eta\n",
    "    b[0][0] += 2*Pb1*eta\n",
    "if (b2 == 'D'):\n",
    "    A[blocks-1][blocks-1] += eta\n",
    "    b[blocks-1][0] += 2*Pb2*eta\n",
    "    \n",
    "if (b1 == 'N'):\n",
    "    A[0][0] -= eta\n",
    "if (b2 == 'N'):\n",
    "    A[blocks-1][blocks-1] -= eta\n",
    "    \n",
    "A = np.matrix(A)\n",
    "b = np.matrix(b)\n",
    "\n",
    "\n",
    "def analytical(x, t, Pb, Po, alpha, L):\n",
    "    sum_ = 0\n",
    "    for n in range(10):\n",
    "        sum_ += (-1)**(n+1) * np.cos(x*PI*(2*n+1)/(2*L)) * np.exp(-alpha*PI**2*((2*n+1)**2)*t/(4*L**2))\n",
    "    return Pb + 4*(Pb-Po)*sum_/PI\n",
    "\n",
    "\n",
    "P1 = []\n",
    "P4 = []\n",
    "P8 = []\n",
    "P1_ = []\n",
    "P4_ = []\n",
    "P8_ = []\n",
    "t = []\n",
    "\n",
    "\n",
    "c = 0\n",
    "while (c < maxSteps):\n",
    "    \n",
    "    if c == 10:\n",
    "        P1 = np.copy(b)\n",
    "    if c == 50:\n",
    "        P4 = np.copy(b)\n",
    "    if c == 80:\n",
    "        P8 = np.copy(b)\n",
    "    \n",
    "    b = np.linalg.inv(A)*b\n",
    "    if (b1 == 'D'):\n",
    "        b[0][0] += 2*Pb1*eta\n",
    "    if (b2 == 'D'):\n",
    "        b[blocks-1][0] += 2*Pb2*eta\n",
    "    c += 1\n",
    "    \n",
    "\n",
    "\n",
    "x = np.linspace(0, 4000, 100)\n",
    "\n",
    "    \n",
    "df = pd.DataFrame()\n",
    "df['x'] = x\n",
    "\n",
    "for xVal in x:\n",
    "    P1_.append(analytical(xVal, 10*timeStep, Pb1, 1000, alpha, L))\n",
    "    P4_.append(analytical(xVal, 50*timeStep, Pb1, 1000, alpha, L))\n",
    "    P8_.append(analytical(xVal, 80*timeStep, Pb1, 1000, alpha, L))\n",
    "\n",
    "df['P1'] = P1\n",
    "df['P4'] = P4\n",
    "df['P8'] = P8\n",
    "df['P1_'] = P1_\n",
    "df['P4_'] = P4_\n",
    "df['P8_'] = P8_\n",
    "\n",
    "df = df[:-1]\n",
    "# print(df)\n",
    "\n",
    "import matplotlib.pyplot as plt\n",
    "%matplotlib inline\n",
    "plt.plot(df.x, df.P1, 'r^', df.x, df.P4, 'b^', df.x, df.P8, 'g^', df.x, df.P1_, 'r-', df.x, df.P4_, 'b-', df.x, df.P8_, 'g-')\n",
    "plt.xlabel('position')\n",
    "plt.ylabel('Pressure')\n",
    "plt.title('Pressure at 10, 50, and 80 days')\n",
    "plt.show()\n",
    " \n",
    "\n",
    "    "
   ]
  },
  {
   "cell_type": "code",
   "execution_count": 7,
   "metadata": {
    "collapsed": false
   },
   "outputs": [
    {
     "data": {
      "image/png": "[encoded data removed]",
      "text/plain": [
       "<matplotlib.figure.Figure at 0x11585d160>"
      ]
     },
     "metadata": {},
     "output_type": "display_data"
    }
   ],
   "source": [
    "b1 = 'N' #const pressure\n",
    "Pb1 = 500\n",
    "b2 = 'D' #const flux\n",
    "Pb2 = 500\n",
    "blocks = 10\n",
    "Pi = [1000] * blocks\n",
    "timeStep = 2.606\n",
    "maxSteps = 20\n",
    "k = 15\n",
    "P = 0.25\n",
    "mu = 1\n",
    "Bw = 1\n",
    "Ct = 1e-5\n",
    "L = 4000\n",
    "dx = L/blocks\n",
    "alpha = (6.33e-3)*k/(P*mu*Ct)\n",
    "eta = alpha*timeStep/(dx**2)\n",
    "\n",
    "\n",
    "tVals = []\n",
    "pVals = []\n",
    "P = [1000] * blocks\n",
    "c = 0\n",
    "while c < maxSteps:\n",
    "    newP = np.copy(P)\n",
    "    for i in range(blocks):\n",
    "        if i == 0:\n",
    "            newP[i] = P[i]\n",
    "        elif i == blocks - 1:\n",
    "            newP[i] = P[i] + eta*(P[i-1] - 2*P[i] + 2*Pb1-P[i])\n",
    "        else:\n",
    "            newP[i] = P[i] + eta*(P[i-1] - 2*P[i] + P[i+1])\n",
    "    P = np.copy(newP)\n",
    "    c+=1\n",
    "    tVals.append(c*timeStep)\n",
    "    pVals.append(P[5])\n",
    "\n",
    "plt.plot(tVals, pVals, 'r^')\n",
    "plt.xlabel('time')\n",
    "plt.ylabel('pressure')\n",
    "plt.title('explicit solution at 2000ft and dt=2.606')\n",
    "plt.show()\n",
    "\n",
    "\n",
    "\n",
    "\n"
   ]
  },
  {
   "cell_type": "code",
   "execution_count": 8,
   "metadata": {
    "collapsed": false
   },
   "outputs": [
    {
     "data": {
      "image/png": "[encoded data removed]",
      "text/plain": [
       "<matplotlib.figure.Figure at 0x11c25aa20>"
      ]
     },
     "metadata": {},
     "output_type": "display_data"
    }
   ],
   "source": [
    "b1 = 'N' #const pressure\n",
    "Pb1 = 500\n",
    "b2 = 'D' #const flux\n",
    "Pb2 = 500\n",
    "blocks = 10\n",
    "Pi = [1000] * blocks\n",
    "timeStep = 2.606\n",
    "maxSteps = 100\n",
    "k = 15\n",
    "P = 0.25\n",
    "mu = 1\n",
    "Bw = 1\n",
    "Ct = 1e-5\n",
    "L = 4000\n",
    "dx = L/blocks\n",
    "alpha = (6.33e-3)*k/(P*mu*Ct)\n",
    "eta = alpha*timeStep/(dx**2)\n",
    "A = np.zeros((blocks, blocks))\n",
    "for i in range(blocks):\n",
    "    A[i][i] = 1 + 2*eta\n",
    "    if i < blocks - 1:\n",
    "        A[i][i+1] = -eta\n",
    "    if i > 0:\n",
    "        A[i][i-1] = -eta\n",
    "\n",
    "\n",
    "b = np.zeros((blocks, 1))\n",
    "for i in range(blocks):\n",
    "    b[i][0] = Pi[i]\n",
    "    \n",
    "\n",
    "if (b1 == 'D'):\n",
    "    A[0][0] += eta\n",
    "    b[0][0] += 2*Pb1*eta\n",
    "if (b2 == 'D'):\n",
    "    A[blocks-1][blocks-1] += eta\n",
    "    b[blocks-1][0] += 2*Pb2*eta\n",
    "    \n",
    "if (b1 == 'N'):\n",
    "    A[0][0] -= eta\n",
    "if (b2 == 'N'):\n",
    "    A[blocks-1][blocks-1] -= eta\n",
    "    \n",
    "A = np.matrix(A)\n",
    "b = np.matrix(b)\n",
    "\n",
    "\n",
    "def analytical(x, t, Pb, Po, alpha, L):\n",
    "    sum_ = 0\n",
    "    for n in range(10):\n",
    "        sum_ += (-1)**(n+1) * np.cos(x*PI*(2*n+1)/(2*L)) * np.exp(-alpha*PI**2*((2*n+1)**2)*t/(4*L**2))\n",
    "    return Pb + 4*(Pb-Po)*sum_/PI\n",
    "\n",
    "pVals = []\n",
    "tVals = []\n",
    "\n",
    "c = 0\n",
    "while (c < maxSteps):\n",
    "\n",
    "    b = np.linalg.inv(A)*b\n",
    "    if (b1 == 'D'):\n",
    "        b[0][0] += 2*Pb1*eta\n",
    "    if (b2 == 'D'):\n",
    "        b[blocks-1][0] += 2*Pb2*eta\n",
    "    c += 1\n",
    "    \n",
    "    tVals.append(c*timeStep)\n",
    "    pVals.append(float(b[5][0]))\n",
    "\n",
    "plt.plot(tVals, pVals, 'r^')\n",
    "plt.xlabel('time')\n",
    "plt.ylabel('pressure')\n",
    "plt.title('implicit solution at 2000ft and dt=2.606')\n",
    "plt.show()\n",
    " "
   ]
  },
  {
   "cell_type": "code",
   "execution_count": null,
   "metadata": {
    "collapsed": true
   },
   "outputs": [],
   "source": []
  },
  {
   "cell_type": "code",
   "execution_count": null,
   "metadata": {
    "collapsed": true
   },
   "outputs": [],
   "source": []
  }
 ],
 "metadata": {
  "kernelspec": {
   "display_name": "Python [Root]",
   "language": "python",
   "name": "Python [Root]"
  },
  "language_info": {
   "codemirror_mode": {
    "name": "ipython",
    "version": 3
   },
   "file_extension": ".py",
   "mimetype": "text/x-python",
   "name": "python",
   "nbconvert_exporter": "python",
   "pygments_lexer": "ipython3",
   "version": "3.5.2"
  }
 },
 "nbformat": 4,
 "nbformat_minor": 0
}
