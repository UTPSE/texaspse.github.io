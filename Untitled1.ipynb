{
 "cells": [
  {
   "cell_type": "code",
   "execution_count": 125,
   "metadata": {
    "collapsed": false
   },
   "outputs": [],
   "source": [
    "import numpy as np\n",
    "import pandas as pd\n",
    "import matplotlib.pyplot as plt\n",
    "from mpl_toolkits.mplot3d import Axes3D\n",
    "\n",
    "x = pd.read_csv('/Users/markmetzger/Desktop/csvblah/data.csv')\n",
    "# data = pd.concat([x['P'], x['k']], axis=1)\n",
    "data = pd.DataFrame()\n",
    "data['P'] = x['AVPOR']\n",
    "data['k'] = x['AVPERM']\n",
    "# print(data)\n",
    "\n",
    "df =  data[(data['k'] > 0) & (data['P'] > 0)]\n",
    "\n",
    "\n"
   ]
  },
  {
   "cell_type": "code",
   "execution_count": 126,
   "metadata": {
    "collapsed": false
   },
   "outputs": [
    {
     "name": "stdout",
     "output_type": "stream",
     "text": [
      "0.01 8200.0 1.5 43.0\n",
      "[  1.00000000e-02   2.04763885e-02   4.19282486e-02   8.58539106e-02\n",
      "   1.75797803e-01   3.59970410e-01   7.37089397e-01   1.50929288e+00\n",
      "   3.09048674e+00   6.32820072e+00   1.29578696e+01   2.65330373e+01\n",
      "   5.43300779e+01   1.11248378e+02   2.27796501e+02   4.66444965e+02\n",
      "   9.55110832e+02   1.95572204e+03   4.00461244e+03   8.20000000e+03]\n",
      "[  1.5          1.78976216   2.13549906   2.54802361   3.0402375\n",
      "   3.62753469   4.32828288   5.16439795   6.16202935   7.35237798\n",
      "   8.77267194  10.46733086  12.48935513  14.90198348  17.78067078\n",
      "  21.21544783  25.31373718  30.20371263  36.038308    43.        ]\n"
     ]
    },
    {
     "name": "stderr",
     "output_type": "stream",
     "text": [
      "/Users/markmetzger/Desktop/anaconda/lib/python3.5/site-packages/ipykernel/__main__.py:15: UserWarning: Boolean Series key will be reindexed to match DataFrame index.\n"
     ]
    }
   ],
   "source": [
    "maxK = np.amax(df.k)\n",
    "minK = np.amin(df.k)\n",
    "maxP = np.amax(df.P)\n",
    "minP = np.amin(df.P)\n",
    "print(minK, maxK, minP, maxP)\n",
    "logK = np.logspace(np.log10(minK) , np.log10(maxK) , num=20)\n",
    "logP = np.logspace(np.log10(minP) , np.log10(maxP) , num=20)\n",
    "print(logK)\n",
    "print(logP)\n",
    "\n",
    "m = np.zeros((len(logK), len(logP)))\n",
    "\n",
    "for i in range(len(logK)-1):\n",
    "    for j in range(len(logP)-1):\n",
    "        new = df[(data['k'] > logK[i]) & (df['k'] < logK[i+1]) & (df['P'] > logP[j]) & (df['P'] < logP[j+1])]\n",
    "        m[i][j] = len(new)\n",
    "        \n",
    "# m is the histogram"
   ]
  },
  {
   "cell_type": "code",
   "execution_count": 127,
   "metadata": {
    "collapsed": false
   },
   "outputs": [],
   "source": [
    "#makes the cdf\n",
    "\n",
    "\n",
    "# cdf = np.zeros((len(logK), len(logP)))\n",
    "# sum = np.sum(m)\n",
    "# for i in range(len(logK)):\n",
    "#     for j in range(len(logP)):\n",
    "#         cdf[j][i] = np.sum(m[0:i,0:j])/sum\n",
    "\n",
    "# print(cdf)\n",
    "\n",
    "# a = (np.asarray(cdf))\n",
    "# np.savetxt(\"/Users/markmetzger/Desktop/csvblah/matrix3.csv\", a, delimiter=\",\")"
   ]
  },
  {
   "cell_type": "code",
   "execution_count": 128,
   "metadata": {
    "collapsed": false
   },
   "outputs": [],
   "source": [
    "#makes pdf\n",
    "\n",
    "# v = 0\n",
    "# for i in range(1,len(logK)):\n",
    "#     for j in range(1,len(logP)):\n",
    "#         v += m[i][j]*(logK[i]-logK[i-1])*(logP[j]-logP[j-1])\n",
    "        \n",
    "# print(v)\n",
    "\n",
    "# normalized = m/v\n",
    "\n",
    "# a = (np.asarray(normalized))\n",
    "# np.savetxt(\"/Users/markmetzger/Desktop/csvblah/matrix4.csv\", a, delimiter=\",\")\n",
    "        "
   ]
  }
 ],
 "metadata": {
  "anaconda-cloud": {},
  "kernelspec": {
   "display_name": "Python [Root]",
   "language": "python",
   "name": "Python [Root]"
  },
  "language_info": {
   "codemirror_mode": {
    "name": "ipython",
    "version": 3
   },
   "file_extension": ".py",
   "mimetype": "text/x-python",
   "name": "python",
   "nbconvert_exporter": "python",
   "pygments_lexer": "ipython3",
   "version": "3.5.2"
  }
 },
 "nbformat": 4,
 "nbformat_minor": 0
}
